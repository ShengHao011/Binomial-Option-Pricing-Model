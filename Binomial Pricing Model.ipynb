{
 "cells": [
  {
   "cell_type": "markdown",
   "id": "d161ec1b-fd32-439e-9609-92d5ee66fd78",
   "metadata": {},
   "source": [
    "## Import required modules"
   ]
  },
  {
   "cell_type": "code",
   "execution_count": null,
   "id": "b1d4987d-666b-4439-b66c-b4df0d93556d",
   "metadata": {},
   "outputs": [],
   "source": [
    "import pandas as pd\n",
    "import numpy as np\n",
    "import datetime as dt\n",
    "import yfinance as yf"
   ]
  },
  {
   "cell_type": "markdown",
   "id": "dbe6c286-afea-4d92-a8a9-e5e2a147a045",
   "metadata": {},
   "source": [
    "## Download historical data of the stock from Yahoo Finance"
   ]
  },
  {
   "cell_type": "code",
   "execution_count": null,
   "id": "2ad0852a-ca57-4b39-bf48-d027ec59937c",
   "metadata": {},
   "outputs": [],
   "source": [
    "start_date = dt.datetime(2000, 1, 1)\n",
    "end_date = dt.datetime(2024, 8, 31)\n",
    "\n",
    "stock_data = yf.download(\"AAPL\", start = start_date, end = end_date)\n",
    "stock_data.head()"
   ]
  },
  {
   "cell_type": "markdown",
   "id": "174c2a5e-9a6c-4f79-8496-3f7f6ec745e7",
   "metadata": {},
   "source": [
    "## Calculate stock's volatility using historical prices"
   ]
  },
  {
   "cell_type": "code",
   "execution_count": null,
   "id": "41a390a9-b3fb-4e2a-b3df-795ede1c269b",
   "metadata": {},
   "outputs": [],
   "source": [
    "stock_data[\"Daily Return\"] = stock_data[\"Adj Close\"].pct_change()\n",
    "daily_sd = stock_data[\"Daily Return\"].std()\n",
    "annualized_sd = np.sqrt(252) * daily_sd\n",
    "annualized_sd"
   ]
  },
  {
   "cell_type": "markdown",
   "id": "bc992493-65e8-4ef6-9d90-ff13ee507129",
   "metadata": {},
   "source": [
    "## Binomial Option Pricing Model for European Call/Put Options"
   ]
  },
  {
   "cell_type": "code",
   "execution_count": null,
   "id": "1004e693-2d6a-4f73-97c5-23da70a92920",
   "metadata": {},
   "outputs": [],
   "source": [
    "s0 = 229               # Stock Price\n",
    "k = 200            # Strike Price\n",
    "t = 1                  # Time to maturity (years)\n",
    "rf = 0.039              # Annual risk-free rate\n",
    "n = 4                  # Number of periods\n",
    "sigma = annualized_sd  # Stock's Volatility\n",
    "option_type = \"c\"      # Type of the option Call/Put"
   ]
  },
  {
   "cell_type": "code",
   "execution_count": null,
   "id": "0896ce44-6b20-4ae5-a589-ea1ab2c80a0e",
   "metadata": {},
   "outputs": [],
   "source": [
    "def binomial_tree_c_pricing(s0, k, t, rf, n, sigma, option_type):\n",
    "    dt = t/n\n",
    "    u = np.exp(sigma*np.sqrt(dt))\n",
    "    d = np.exp(-sigma*np.sqrt(dt))\n",
    "    p = (np.exp(rf*dt) - d) / (u-d)\n",
    "    discount_rate = np.exp(-rf * dt)\n",
    "\n",
    "    stock_prices = np.zeros(n+1) \n",
    "    stock_prices[0] = s0 * (d**n)\n",
    "    for j in range(1, n+1):\n",
    "        stock_prices[j] = stock_prices[j-1] * u/d\n",
    "\n",
    "    option_values = np.zeros(n+1)\n",
    "    for j in range(0, n+1):\n",
    "        if option_type == \"c\":\n",
    "            option_values[j] = max(0, stock_prices[j] - k)\n",
    "        else:\n",
    "            option_values[j] = max(0, k - stock_prices[j])\n",
    "\n",
    "    for i in np.arange(n, 0, -1):\n",
    "        for j in range(0, i):\n",
    "            option_values[j] = (p * option_values[j+1] + (1-p) * option_values[j]) * discount_rate\n",
    "\n",
    "    return option_values[0]\n",
    "\n",
    "binomial_tree_c_pricing(s0, k, t, rf, n, sigma, option_type)"
   ]
  },
  {
   "cell_type": "code",
   "execution_count": null,
   "id": "daae9f8e-286b-4881-ad50-10b3d8088214",
   "metadata": {},
   "outputs": [],
   "source": []
  }
 ],
 "metadata": {
  "kernelspec": {
   "display_name": "Python 3 (ipykernel)",
   "language": "python",
   "name": "python3"
  },
  "language_info": {
   "codemirror_mode": {
    "name": "ipython",
    "version": 3
   },
   "file_extension": ".py",
   "mimetype": "text/x-python",
   "name": "python",
   "nbconvert_exporter": "python",
   "pygments_lexer": "ipython3",
   "version": "3.9.19"
  }
 },
 "nbformat": 4,
 "nbformat_minor": 5
}
